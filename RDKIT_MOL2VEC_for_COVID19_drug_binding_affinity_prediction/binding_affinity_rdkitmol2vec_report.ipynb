{
 "cells": [
  {
   "cell_type": "code",
   "execution_count": 2,
   "metadata": {
    "colab": {
     "base_uri": "https://localhost:8080/",
     "height": 1000
    },
    "colab_type": "code",
    "id": "cyYdnGjwi2UM",
    "outputId": "a79e5bda-4f71-4471-ffdc-54e9394ac9b9"
   },
   "outputs": [
    {
     "name": "stdout",
     "output_type": "stream",
     "text": [
      "--2020-05-01 04:57:10--  https://repo.continuum.io/miniconda/Miniconda3-latest-Linux-x86_64.sh\n",
      "Resolving repo.continuum.io (repo.continuum.io)... 104.18.201.79, 104.18.200.79, 2606:4700::6812:c84f, ...\n",
      "Connecting to repo.continuum.io (repo.continuum.io)|104.18.201.79|:443... connected.\n",
      "HTTP request sent, awaiting response... 301 Moved Permanently\n",
      "Location: https://repo.anaconda.com/miniconda/Miniconda3-latest-Linux-x86_64.sh [following]\n",
      "--2020-05-01 04:57:10--  https://repo.anaconda.com/miniconda/Miniconda3-latest-Linux-x86_64.sh\n",
      "Resolving repo.anaconda.com (repo.anaconda.com)... 104.16.131.3, 104.16.130.3, 2606:4700::6810:8303, ...\n",
      "Connecting to repo.anaconda.com (repo.anaconda.com)|104.16.131.3|:443... connected.\n",
      "HTTP request sent, awaiting response... 200 OK\n",
      "Length: 85055499 (81M) [application/x-sh]\n",
      "Saving to: ‘Miniconda3-latest-Linux-x86_64.sh’\n",
      "\n",
      "\r",
      "          Miniconda   0%[                    ]       0  --.-KB/s               \r",
      "         Miniconda3  26%[====>               ]  21.32M   107MB/s               \r",
      "        Miniconda3-  71%[=============>      ]  58.21M   145MB/s               \r",
      "Miniconda3-latest-L 100%[===================>]  81.12M   146MB/s    in 0.6s    \n",
      "\n",
      "2020-05-01 04:57:11 (146 MB/s) - ‘Miniconda3-latest-Linux-x86_64.sh’ saved [85055499/85055499]\n",
      "\n",
      "PREFIX=/usr/local\n",
      "Unpacking payload ...\n",
      "Collecting package metadata (current_repodata.json): - \b\b\\ \b\b| \b\bdone\n",
      "Solving environment: - \b\b\\ \b\bdone\n",
      "\n",
      "## Package Plan ##\n",
      "\n",
      "  environment location: /usr/local\n",
      "\n",
      "  added / updated specs:\n",
      "    - _libgcc_mutex==0.1=main\n",
      "    - asn1crypto==1.3.0=py37_0\n",
      "    - ca-certificates==2020.1.1=0\n",
      "    - certifi==2019.11.28=py37_0\n",
      "    - cffi==1.14.0=py37h2e261b9_0\n",
      "    - chardet==3.0.4=py37_1003\n",
      "    - conda-package-handling==1.6.0=py37h7b6447c_0\n",
      "    - conda==4.8.2=py37_0\n",
      "    - cryptography==2.8=py37h1ba5d50_0\n",
      "    - idna==2.8=py37_0\n",
      "    - ld_impl_linux-64==2.33.1=h53a641e_7\n",
      "    - libedit==3.1.20181209=hc058e9b_0\n",
      "    - libffi==3.2.1=hd88cf55_4\n",
      "    - libgcc-ng==9.1.0=hdf63c60_0\n",
      "    - libstdcxx-ng==9.1.0=hdf63c60_0\n",
      "    - ncurses==6.2=he6710b0_0\n",
      "    - openssl==1.1.1d=h7b6447c_4\n",
      "    - pip==20.0.2=py37_1\n",
      "    - pycosat==0.6.3=py37h7b6447c_0\n",
      "    - pycparser==2.19=py37_0\n",
      "    - pyopenssl==19.1.0=py37_0\n",
      "    - pysocks==1.7.1=py37_0\n",
      "    - python==3.7.6=h0371630_2\n",
      "    - readline==7.0=h7b6447c_5\n",
      "    - requests==2.22.0=py37_1\n",
      "    - ruamel_yaml==0.15.87=py37h7b6447c_0\n",
      "    - setuptools==45.2.0=py37_0\n",
      "    - six==1.14.0=py37_0\n",
      "    - sqlite==3.31.1=h7b6447c_0\n",
      "    - tk==8.6.8=hbc83047_0\n",
      "    - tqdm==4.42.1=py_0\n",
      "    - urllib3==1.25.8=py37_0\n",
      "    - wheel==0.34.2=py37_0\n",
      "    - xz==5.2.4=h14c3975_4\n",
      "    - yaml==0.1.7=had09818_2\n",
      "    - zlib==1.2.11=h7b6447c_3\n",
      "\n",
      "\n",
      "The following NEW packages will be INSTALLED:\n",
      "\n",
      "  _libgcc_mutex      pkgs/main/linux-64::_libgcc_mutex-0.1-main\n",
      "  asn1crypto         pkgs/main/linux-64::asn1crypto-1.3.0-py37_0\n",
      "  ca-certificates    pkgs/main/linux-64::ca-certificates-2020.1.1-0\n",
      "  certifi            pkgs/main/linux-64::certifi-2019.11.28-py37_0\n",
      "  cffi               pkgs/main/linux-64::cffi-1.14.0-py37h2e261b9_0\n",
      "  chardet            pkgs/main/linux-64::chardet-3.0.4-py37_1003\n",
      "  conda              pkgs/main/linux-64::conda-4.8.2-py37_0\n",
      "  conda-package-han~ pkgs/main/linux-64::conda-package-handling-1.6.0-py37h7b6447c_0\n",
      "  cryptography       pkgs/main/linux-64::cryptography-2.8-py37h1ba5d50_0\n",
      "  idna               pkgs/main/linux-64::idna-2.8-py37_0\n",
      "  ld_impl_linux-64   pkgs/main/linux-64::ld_impl_linux-64-2.33.1-h53a641e_7\n",
      "  libedit            pkgs/main/linux-64::libedit-3.1.20181209-hc058e9b_0\n",
      "  libffi             pkgs/main/linux-64::libffi-3.2.1-hd88cf55_4\n",
      "  libgcc-ng          pkgs/main/linux-64::libgcc-ng-9.1.0-hdf63c60_0\n",
      "  libstdcxx-ng       pkgs/main/linux-64::libstdcxx-ng-9.1.0-hdf63c60_0\n",
      "  ncurses            pkgs/main/linux-64::ncurses-6.2-he6710b0_0\n",
      "  openssl            pkgs/main/linux-64::openssl-1.1.1d-h7b6447c_4\n",
      "  pip                pkgs/main/linux-64::pip-20.0.2-py37_1\n",
      "  pycosat            pkgs/main/linux-64::pycosat-0.6.3-py37h7b6447c_0\n",
      "  pycparser          pkgs/main/linux-64::pycparser-2.19-py37_0\n",
      "  pyopenssl          pkgs/main/linux-64::pyopenssl-19.1.0-py37_0\n",
      "  pysocks            pkgs/main/linux-64::pysocks-1.7.1-py37_0\n",
      "  python             pkgs/main/linux-64::python-3.7.6-h0371630_2\n",
      "  readline           pkgs/main/linux-64::readline-7.0-h7b6447c_5\n",
      "  requests           pkgs/main/linux-64::requests-2.22.0-py37_1\n",
      "  ruamel_yaml        pkgs/main/linux-64::ruamel_yaml-0.15.87-py37h7b6447c_0\n",
      "  setuptools         pkgs/main/linux-64::setuptools-45.2.0-py37_0\n",
      "  six                pkgs/main/linux-64::six-1.14.0-py37_0\n",
      "  sqlite             pkgs/main/linux-64::sqlite-3.31.1-h7b6447c_0\n",
      "  tk                 pkgs/main/linux-64::tk-8.6.8-hbc83047_0\n",
      "  tqdm               pkgs/main/noarch::tqdm-4.42.1-py_0\n",
      "  urllib3            pkgs/main/linux-64::urllib3-1.25.8-py37_0\n",
      "  wheel              pkgs/main/linux-64::wheel-0.34.2-py37_0\n",
      "  xz                 pkgs/main/linux-64::xz-5.2.4-h14c3975_4\n",
      "  yaml               pkgs/main/linux-64::yaml-0.1.7-had09818_2\n",
      "  zlib               pkgs/main/linux-64::zlib-1.2.11-h7b6447c_3\n",
      "\n",
      "\n",
      "Preparing transaction: / \b\b- \b\b\\ \b\b| \b\bdone\n",
      "Executing transaction: - \b\b\\ \b\b| \b\b/ \b\b- \b\b\\ \b\b| \b\b/ \b\b- \b\b\\ \b\b| \b\b/ \b\b- \b\b\\ \b\b| \b\b/ \b\b- \b\b\\ \b\b| \b\b/ \b\bdone\n",
      "installation finished.\n",
      "WARNING:\n",
      "    You currently have a PYTHONPATH environment variable set. This may cause\n",
      "    unexpected behavior when running the Python interpreter in Miniconda3.\n",
      "    For best results, please verify that your PYTHONPATH only points to\n",
      "    directories of packages that are compatible with the Python interpreter\n",
      "    in Miniconda3: /usr/local\n",
      "\n",
      "real\t0m19.371s\n",
      "user\t0m7.644s\n",
      "sys\t0m4.166s\n",
      "Collecting package metadata (current_repodata.json): ...working... done\n",
      "Solving environment: ...working... done\n",
      "\n",
      "## Package Plan ##\n",
      "\n",
      "  environment location: /usr/local\n",
      "\n",
      "  added / updated specs:\n",
      "    - rdkit\n",
      "\n",
      "\n",
      "The following packages will be downloaded:\n",
      "\n",
      "    package                    |            build\n",
      "    ---------------------------|-----------------\n",
      "    boost-1.72.0               |   py37h9de70de_0         316 KB  conda-forge\n",
      "    boost-cpp-1.72.0           |       h8e57a91_0        21.8 MB  conda-forge\n",
      "    bzip2-1.0.8                |       h516909a_2         396 KB  conda-forge\n",
      "    ca-certificates-2020.4.5.1 |       hecc5488_0         146 KB  conda-forge\n",
      "    cairo-1.16.0               |    hcf35c78_1003         1.5 MB  conda-forge\n",
      "    certifi-2020.4.5.1         |   py37hc8dfbb8_0         151 KB  conda-forge\n",
      "    conda-4.8.3                |   py37hc8dfbb8_1         3.0 MB  conda-forge\n",
      "    fontconfig-2.13.1          |    h86ecdb6_1001         340 KB  conda-forge\n",
      "    freetype-2.10.1            |       he06d7ca_0         877 KB  conda-forge\n",
      "    gettext-0.19.8.1           |    hc5be6a0_1002         3.6 MB  conda-forge\n",
      "    glib-2.64.2                |       h6f030ca_0         3.4 MB  conda-forge\n",
      "    icu-64.2                   |       he1b5a44_1        12.6 MB  conda-forge\n",
      "    jpeg-9c                    |    h14c3975_1001         251 KB  conda-forge\n",
      "    libblas-3.8.0              |      14_openblas          10 KB  conda-forge\n",
      "    libcblas-3.8.0             |      14_openblas          10 KB  conda-forge\n",
      "    libgfortran-ng-7.3.0       |       hdf63c60_5         1.7 MB  conda-forge\n",
      "    libiconv-1.15              |    h516909a_1006         2.0 MB  conda-forge\n",
      "    liblapack-3.8.0            |      14_openblas          10 KB  conda-forge\n",
      "    libopenblas-0.3.7          |       h5ec1e0e_6         7.6 MB  conda-forge\n",
      "    libpng-1.6.37              |       hed695b0_1         308 KB  conda-forge\n",
      "    libtiff-4.1.0              |       hc7e4089_6         668 KB  conda-forge\n",
      "    libuuid-2.32.1             |    h14c3975_1000          26 KB  conda-forge\n",
      "    libwebp-base-1.1.0         |       h516909a_3         845 KB  conda-forge\n",
      "    libxcb-1.13                |    h14c3975_1002         396 KB  conda-forge\n",
      "    libxml2-2.9.10             |       hee79883_0         1.3 MB  conda-forge\n",
      "    lz4-c-1.8.3                |    he1b5a44_1001         187 KB  conda-forge\n",
      "    numpy-1.18.1               |   py37h8960a57_1         5.2 MB  conda-forge\n",
      "    olefile-0.46               |             py_0          31 KB  conda-forge\n",
      "    openssl-1.1.1g             |       h516909a_0         2.1 MB  conda-forge\n",
      "    pandas-1.0.3               |   py37h0da4684_1        11.1 MB  conda-forge\n",
      "    pcre-8.44                  |       he1b5a44_0         261 KB  conda-forge\n",
      "    pillow-7.0.0               |   py37hb39fc2d_0         598 KB\n",
      "    pixman-0.38.0              |    h516909a_1003         594 KB  conda-forge\n",
      "    pthread-stubs-0.4          |    h14c3975_1001           5 KB  conda-forge\n",
      "    pycairo-1.19.1             |   py37h01af8b0_3          77 KB  conda-forge\n",
      "    python-dateutil-2.8.1      |             py_0         220 KB  conda-forge\n",
      "    python_abi-3.7             |          1_cp37m           4 KB  conda-forge\n",
      "    pytz-2020.1                |     pyh9f0ad1d_0         227 KB  conda-forge\n",
      "    rdkit-2020.03.1            |   py37hdd87690_1        24.7 MB  conda-forge\n",
      "    xorg-kbproto-1.0.7         |    h14c3975_1002          26 KB  conda-forge\n",
      "    xorg-libice-1.0.10         |       h516909a_0          57 KB  conda-forge\n",
      "    xorg-libsm-1.2.3           |    h84519dc_1000          25 KB  conda-forge\n",
      "    xorg-libx11-1.6.9          |       h516909a_0         918 KB  conda-forge\n",
      "    xorg-libxau-1.0.9          |       h14c3975_0          13 KB  conda-forge\n",
      "    xorg-libxdmcp-1.1.3        |       h516909a_0          18 KB  conda-forge\n",
      "    xorg-libxext-1.3.4         |       h516909a_0          51 KB  conda-forge\n",
      "    xorg-libxrender-0.9.10     |    h516909a_1002          31 KB  conda-forge\n",
      "    xorg-renderproto-0.11.1    |    h14c3975_1002           8 KB  conda-forge\n",
      "    xorg-xextproto-7.3.0       |    h14c3975_1002          27 KB  conda-forge\n",
      "    xorg-xproto-7.0.31         |    h14c3975_1007          72 KB  conda-forge\n",
      "    zstd-1.4.4                 |       h3b9ef0a_2         982 KB  conda-forge\n",
      "    ------------------------------------------------------------\n",
      "                                           Total:       110.7 MB\n",
      "\n",
      "The following NEW packages will be INSTALLED:\n",
      "\n",
      "  boost              conda-forge/linux-64::boost-1.72.0-py37h9de70de_0\n",
      "  boost-cpp          conda-forge/linux-64::boost-cpp-1.72.0-h8e57a91_0\n",
      "  bzip2              conda-forge/linux-64::bzip2-1.0.8-h516909a_2\n",
      "  cairo              conda-forge/linux-64::cairo-1.16.0-hcf35c78_1003\n",
      "  fontconfig         conda-forge/linux-64::fontconfig-2.13.1-h86ecdb6_1001\n",
      "  freetype           conda-forge/linux-64::freetype-2.10.1-he06d7ca_0\n",
      "  gettext            conda-forge/linux-64::gettext-0.19.8.1-hc5be6a0_1002\n",
      "  glib               conda-forge/linux-64::glib-2.64.2-h6f030ca_0\n",
      "  icu                conda-forge/linux-64::icu-64.2-he1b5a44_1\n",
      "  jpeg               conda-forge/linux-64::jpeg-9c-h14c3975_1001\n",
      "  libblas            conda-forge/linux-64::libblas-3.8.0-14_openblas\n",
      "  libcblas           conda-forge/linux-64::libcblas-3.8.0-14_openblas\n",
      "  libgfortran-ng     conda-forge/linux-64::libgfortran-ng-7.3.0-hdf63c60_5\n",
      "  libiconv           conda-forge/linux-64::libiconv-1.15-h516909a_1006\n",
      "  liblapack          conda-forge/linux-64::liblapack-3.8.0-14_openblas\n",
      "  libopenblas        conda-forge/linux-64::libopenblas-0.3.7-h5ec1e0e_6\n",
      "  libpng             conda-forge/linux-64::libpng-1.6.37-hed695b0_1\n",
      "  libtiff            conda-forge/linux-64::libtiff-4.1.0-hc7e4089_6\n",
      "  libuuid            conda-forge/linux-64::libuuid-2.32.1-h14c3975_1000\n",
      "  libwebp-base       conda-forge/linux-64::libwebp-base-1.1.0-h516909a_3\n",
      "  libxcb             conda-forge/linux-64::libxcb-1.13-h14c3975_1002\n",
      "  libxml2            conda-forge/linux-64::libxml2-2.9.10-hee79883_0\n",
      "  lz4-c              conda-forge/linux-64::lz4-c-1.8.3-he1b5a44_1001\n",
      "  numpy              conda-forge/linux-64::numpy-1.18.1-py37h8960a57_1\n",
      "  olefile            conda-forge/noarch::olefile-0.46-py_0\n",
      "  pandas             conda-forge/linux-64::pandas-1.0.3-py37h0da4684_1\n",
      "  pcre               conda-forge/linux-64::pcre-8.44-he1b5a44_0\n",
      "  pillow             pkgs/main/linux-64::pillow-7.0.0-py37hb39fc2d_0\n",
      "  pixman             conda-forge/linux-64::pixman-0.38.0-h516909a_1003\n",
      "  pthread-stubs      conda-forge/linux-64::pthread-stubs-0.4-h14c3975_1001\n",
      "  pycairo            conda-forge/linux-64::pycairo-1.19.1-py37h01af8b0_3\n",
      "  python-dateutil    conda-forge/noarch::python-dateutil-2.8.1-py_0\n",
      "  python_abi         conda-forge/linux-64::python_abi-3.7-1_cp37m\n",
      "  pytz               conda-forge/noarch::pytz-2020.1-pyh9f0ad1d_0\n",
      "  rdkit              conda-forge/linux-64::rdkit-2020.03.1-py37hdd87690_1\n",
      "  xorg-kbproto       conda-forge/linux-64::xorg-kbproto-1.0.7-h14c3975_1002\n",
      "  xorg-libice        conda-forge/linux-64::xorg-libice-1.0.10-h516909a_0\n",
      "  xorg-libsm         conda-forge/linux-64::xorg-libsm-1.2.3-h84519dc_1000\n",
      "  xorg-libx11        conda-forge/linux-64::xorg-libx11-1.6.9-h516909a_0\n",
      "  xorg-libxau        conda-forge/linux-64::xorg-libxau-1.0.9-h14c3975_0\n",
      "  xorg-libxdmcp      conda-forge/linux-64::xorg-libxdmcp-1.1.3-h516909a_0\n",
      "  xorg-libxext       conda-forge/linux-64::xorg-libxext-1.3.4-h516909a_0\n",
      "  xorg-libxrender    conda-forge/linux-64::xorg-libxrender-0.9.10-h516909a_1002\n",
      "  xorg-renderproto   conda-forge/linux-64::xorg-renderproto-0.11.1-h14c3975_1002\n",
      "  xorg-xextproto     conda-forge/linux-64::xorg-xextproto-7.3.0-h14c3975_1002\n",
      "  xorg-xproto        conda-forge/linux-64::xorg-xproto-7.0.31-h14c3975_1007\n",
      "  zstd               conda-forge/linux-64::zstd-1.4.4-h3b9ef0a_2\n",
      "\n",
      "The following packages will be UPDATED:\n",
      "\n",
      "  ca-certificates     pkgs/main::ca-certificates-2020.1.1-0 --> conda-forge::ca-certificates-2020.4.5.1-hecc5488_0\n",
      "  certifi              pkgs/main::certifi-2019.11.28-py37_0 --> conda-forge::certifi-2020.4.5.1-py37hc8dfbb8_0\n",
      "  conda                       pkgs/main::conda-4.8.2-py37_0 --> conda-forge::conda-4.8.3-py37hc8dfbb8_1\n",
      "  openssl              pkgs/main::openssl-1.1.1d-h7b6447c_4 --> conda-forge::openssl-1.1.1g-h516909a_0\n",
      "\n",
      "\n",
      "Preparing transaction: ...working... done\n",
      "Verifying transaction: ...working... done\n",
      "Executing transaction: ...working... done\n",
      "\n",
      "real\t0m42.111s\n",
      "user\t0m35.961s\n",
      "sys\t0m4.474s\n",
      "Collecting git+https://github.com/samoturk/mol2vec\n",
      "  Cloning https://github.com/samoturk/mol2vec to /tmp/pip-req-build-zcr95vkg\n",
      "  Running command git clone -q https://github.com/samoturk/mol2vec /tmp/pip-req-build-zcr95vkg\n",
      "Requirement already satisfied: numpy in /usr/local/lib/python3.7/site-packages (from mol2vec==0.1) (1.18.1)\n",
      "Collecting gensim\n",
      "  Downloading gensim-3.8.2-cp37-cp37m-manylinux1_x86_64.whl (24.2 MB)\n",
      "\u001b[K     |████████████████████████████████| 24.2 MB 1.3 MB/s \n",
      "\u001b[?25hRequirement already satisfied: tqdm in /usr/local/lib/python3.7/site-packages (from mol2vec==0.1) (4.42.1)\n",
      "Collecting joblib\n",
      "  Downloading joblib-0.14.1-py2.py3-none-any.whl (294 kB)\n",
      "\u001b[K     |████████████████████████████████| 294 kB 50.3 MB/s \n",
      "\u001b[?25hRequirement already satisfied: pandas in /usr/local/lib/python3.7/site-packages (from mol2vec==0.1) (1.0.3)\n",
      "Collecting matplotlib\n",
      "  Downloading matplotlib-3.2.1-cp37-cp37m-manylinux1_x86_64.whl (12.4 MB)\n",
      "\u001b[K     |████████████████████████████████| 12.4 MB 44.4 MB/s \n",
      "\u001b[?25hCollecting IPython\n",
      "  Downloading ipython-7.13.0-py3-none-any.whl (780 kB)\n",
      "\u001b[K     |████████████████████████████████| 780 kB 44.2 MB/s \n",
      "\u001b[?25hCollecting seaborn\n",
      "  Downloading seaborn-0.10.1-py3-none-any.whl (215 kB)\n",
      "\u001b[K     |████████████████████████████████| 215 kB 49.4 MB/s \n",
      "\u001b[?25hCollecting smart-open>=1.8.1\n",
      "  Downloading smart_open-2.0.0.tar.gz (103 kB)\n",
      "\u001b[K     |████████████████████████████████| 103 kB 65.2 MB/s \n",
      "\u001b[?25hRequirement already satisfied: six>=1.5.0 in /usr/local/lib/python3.7/site-packages (from gensim->mol2vec==0.1) (1.14.0)\n",
      "Collecting scipy>=1.0.0\n",
      "  Downloading scipy-1.4.1-cp37-cp37m-manylinux1_x86_64.whl (26.1 MB)\n",
      "\u001b[K     |████████████████████████████████| 26.1 MB 78.4 MB/s \n",
      "\u001b[?25hRequirement already satisfied: pytz>=2017.2 in /usr/local/lib/python3.7/site-packages (from pandas->mol2vec==0.1) (2020.1)\n",
      "Requirement already satisfied: python-dateutil>=2.6.1 in /usr/local/lib/python3.7/site-packages (from pandas->mol2vec==0.1) (2.8.1)\n",
      "Collecting pyparsing!=2.0.4,!=2.1.2,!=2.1.6,>=2.0.1\n",
      "  Downloading pyparsing-2.4.7-py2.py3-none-any.whl (67 kB)\n",
      "\u001b[K     |████████████████████████████████| 67 kB 6.2 MB/s \n",
      "\u001b[?25hCollecting kiwisolver>=1.0.1\n",
      "  Downloading kiwisolver-1.2.0-cp37-cp37m-manylinux1_x86_64.whl (88 kB)\n",
      "\u001b[K     |████████████████████████████████| 88 kB 9.0 MB/s \n",
      "\u001b[?25hCollecting cycler>=0.10\n",
      "  Downloading cycler-0.10.0-py2.py3-none-any.whl (6.5 kB)\n",
      "Requirement already satisfied: setuptools>=18.5 in /usr/local/lib/python3.7/site-packages (from IPython->mol2vec==0.1) (45.2.0.post20200210)\n",
      "Collecting backcall\n",
      "  Downloading backcall-0.1.0.tar.gz (9.7 kB)\n",
      "Collecting decorator\n",
      "  Downloading decorator-4.4.2-py2.py3-none-any.whl (9.2 kB)\n",
      "Collecting pexpect; sys_platform != \"win32\"\n",
      "  Downloading pexpect-4.8.0-py2.py3-none-any.whl (59 kB)\n",
      "\u001b[K     |████████████████████████████████| 59 kB 6.9 MB/s \n",
      "\u001b[?25hCollecting prompt-toolkit!=3.0.0,!=3.0.1,<3.1.0,>=2.0.0\n",
      "  Downloading prompt_toolkit-3.0.5-py3-none-any.whl (351 kB)\n",
      "\u001b[K     |████████████████████████████████| 351 kB 58.9 MB/s \n",
      "\u001b[?25hCollecting pickleshare\n",
      "  Downloading pickleshare-0.7.5-py2.py3-none-any.whl (6.9 kB)\n",
      "Collecting pygments\n",
      "  Downloading Pygments-2.6.1-py3-none-any.whl (914 kB)\n",
      "\u001b[K     |████████████████████████████████| 914 kB 56.2 MB/s \n",
      "\u001b[?25hCollecting traitlets>=4.2\n",
      "  Downloading traitlets-4.3.3-py2.py3-none-any.whl (75 kB)\n",
      "\u001b[K     |████████████████████████████████| 75 kB 5.5 MB/s \n",
      "\u001b[?25hCollecting jedi>=0.10\n",
      "  Downloading jedi-0.17.0-py2.py3-none-any.whl (1.1 MB)\n",
      "\u001b[K     |████████████████████████████████| 1.1 MB 49.7 MB/s \n",
      "\u001b[?25hRequirement already satisfied: requests in /usr/local/lib/python3.7/site-packages (from smart-open>=1.8.1->gensim->mol2vec==0.1) (2.22.0)\n",
      "Collecting boto\n",
      "  Downloading boto-2.49.0-py2.py3-none-any.whl (1.4 MB)\n",
      "\u001b[K     |████████████████████████████████| 1.4 MB 51.3 MB/s \n",
      "\u001b[?25hCollecting boto3\n",
      "  Downloading boto3-1.13.0-py2.py3-none-any.whl (128 kB)\n",
      "\u001b[K     |████████████████████████████████| 128 kB 63.5 MB/s \n",
      "\u001b[?25hCollecting ptyprocess>=0.5\n",
      "  Downloading ptyprocess-0.6.0-py2.py3-none-any.whl (39 kB)\n",
      "Collecting wcwidth\n",
      "  Downloading wcwidth-0.1.9-py2.py3-none-any.whl (19 kB)\n",
      "Collecting ipython-genutils\n",
      "  Downloading ipython_genutils-0.2.0-py2.py3-none-any.whl (26 kB)\n",
      "Collecting parso>=0.7.0\n",
      "  Downloading parso-0.7.0-py2.py3-none-any.whl (100 kB)\n",
      "\u001b[K     |████████████████████████████████| 100 kB 11.3 MB/s \n",
      "\u001b[?25hRequirement already satisfied: chardet<3.1.0,>=3.0.2 in /usr/local/lib/python3.7/site-packages (from requests->smart-open>=1.8.1->gensim->mol2vec==0.1) (3.0.4)\n",
      "Requirement already satisfied: idna<2.9,>=2.5 in /usr/local/lib/python3.7/site-packages (from requests->smart-open>=1.8.1->gensim->mol2vec==0.1) (2.8)\n",
      "Requirement already satisfied: certifi>=2017.4.17 in /usr/local/lib/python3.7/site-packages (from requests->smart-open>=1.8.1->gensim->mol2vec==0.1) (2020.4.5.1)\n",
      "Requirement already satisfied: urllib3!=1.25.0,!=1.25.1,<1.26,>=1.21.1 in /usr/local/lib/python3.7/site-packages (from requests->smart-open>=1.8.1->gensim->mol2vec==0.1) (1.25.8)\n",
      "Collecting botocore<1.17.0,>=1.16.0\n",
      "  Downloading botocore-1.16.0-py2.py3-none-any.whl (6.2 MB)\n",
      "\u001b[K     |████████████████████████████████| 6.2 MB 42.0 MB/s \n",
      "\u001b[?25hCollecting jmespath<1.0.0,>=0.7.1\n",
      "  Downloading jmespath-0.9.5-py2.py3-none-any.whl (24 kB)\n",
      "Collecting s3transfer<0.4.0,>=0.3.0\n",
      "  Downloading s3transfer-0.3.3-py2.py3-none-any.whl (69 kB)\n",
      "\u001b[K     |████████████████████████████████| 69 kB 8.8 MB/s \n",
      "\u001b[?25hCollecting docutils<0.16,>=0.10\n",
      "  Downloading docutils-0.15.2-py3-none-any.whl (547 kB)\n",
      "\u001b[K     |████████████████████████████████| 547 kB 62.4 MB/s \n",
      "\u001b[?25hBuilding wheels for collected packages: mol2vec, smart-open, backcall\n",
      "  Building wheel for mol2vec (setup.py) ... \u001b[?25l\u001b[?25hdone\n",
      "  Created wheel for mol2vec: filename=mol2vec-0.1-py3-none-any.whl size=14026 sha256=99061f0f1c52532fcffc12dde8e3f05c42a46fe0dd764e64056c9bcd955b5c37\n",
      "  Stored in directory: /tmp/pip-ephem-wheel-cache-8oedkvwn/wheels/80/d5/e1/90dc211e4a17780f99eaec43328470a70284cd731ef2a77034\n",
      "  Building wheel for smart-open (setup.py) ... \u001b[?25l\u001b[?25hdone\n",
      "  Created wheel for smart-open: filename=smart_open-2.0.0-py3-none-any.whl size=101341 sha256=ba209413bd3194c8e425179937f0eb2035c67b656d86f6599f3e380a570f2a89\n",
      "  Stored in directory: /root/.cache/pip/wheels/bb/1c/9c/412ec03f6d5ac7d41f4b965bde3fc0d1bd201da5ba3e2636de\n",
      "  Building wheel for backcall (setup.py) ... \u001b[?25l\u001b[?25hdone\n",
      "  Created wheel for backcall: filename=backcall-0.1.0-py3-none-any.whl size=10413 sha256=8c98b13dc6545138b02378cbec7693f591b86c6041f3c0e0921fed0a3026714d\n",
      "  Stored in directory: /root/.cache/pip/wheels/9e/56/4f/da13e448a8a5b8671b2954600d5355cf36e557c7aa5020139b\n",
      "Successfully built mol2vec smart-open backcall\n",
      "Installing collected packages: boto, docutils, jmespath, botocore, s3transfer, boto3, smart-open, scipy, gensim, joblib, pyparsing, kiwisolver, cycler, matplotlib, backcall, decorator, ptyprocess, pexpect, wcwidth, prompt-toolkit, pickleshare, pygments, ipython-genutils, traitlets, parso, jedi, IPython, seaborn, mol2vec\n",
      "Successfully installed IPython-7.13.0 backcall-0.1.0 boto-2.49.0 boto3-1.13.0 botocore-1.16.0 cycler-0.10.0 decorator-4.4.2 docutils-0.15.2 gensim-3.8.2 ipython-genutils-0.2.0 jedi-0.17.0 jmespath-0.9.5 joblib-0.14.1 kiwisolver-1.2.0 matplotlib-3.2.1 mol2vec-0.1 parso-0.7.0 pexpect-4.8.0 pickleshare-0.7.5 prompt-toolkit-3.0.5 ptyprocess-0.6.0 pygments-2.6.1 pyparsing-2.4.7 s3transfer-0.3.3 scipy-1.4.1 seaborn-0.10.1 smart-open-2.0.0 traitlets-4.3.3 wcwidth-0.1.9\n"
     ]
    },
    {
     "data": {
      "application/vnd.colab-display-data+json": {
       "pip_warning": {
        "packages": [
         "cycler",
         "decorator",
         "ipython_genutils",
         "kiwisolver",
         "matplotlib",
         "mpl_toolkits",
         "pexpect",
         "pickleshare",
         "pyparsing",
         "traitlets",
         "wcwidth"
        ]
       }
      }
     },
     "metadata": {
      "tags": []
     },
     "output_type": "display_data"
    }
   ],
   "source": [
    "# Install RDKit. Takes 2-3 minutes\n",
    "!wget -c https://repo.continuum.io/miniconda/Miniconda3-latest-Linux-x86_64.sh\n",
    "!chmod +x Miniconda3-latest-Linux-x86_64.sh\n",
    "!time bash ./Miniconda3-latest-Linux-x86_64.sh -b -f -p /usr/local\n",
    "!time conda install -q -y -c conda-forge rdkit\n",
    "!pip install git+https://github.com/samoturk/mol2vec;"
   ]
  },
  {
   "cell_type": "code",
   "execution_count": 4,
   "metadata": {
    "colab": {
     "base_uri": "https://localhost:8080/",
     "height": 1000
    },
    "colab_type": "code",
    "id": "OHlOEALgBb61",
    "outputId": "66749e3a-6cee-4cdc-d55c-329f59e30c48"
   },
   "outputs": [
    {
     "name": "stdout",
     "output_type": "stream",
     "text": [
      "Go to this URL in a browser: https://accounts.google.com/o/oauth2/auth?client_id=947318989803-6bn6qk8qdgf4n4g3pfee6491hc0brc4i.apps.googleusercontent.com&redirect_uri=urn%3aietf%3awg%3aoauth%3a2.0%3aoob&response_type=code&scope=email%20https%3a%2f%2fwww.googleapis.com%2fauth%2fdocs.test%20https%3a%2f%2fwww.googleapis.com%2fauth%2fdrive%20https%3a%2f%2fwww.googleapis.com%2fauth%2fdrive.photos.readonly%20https%3a%2f%2fwww.googleapis.com%2fauth%2fpeopleapi.readonly\n",
      "\n",
      "Enter your authorization code:\n",
      "··········\n",
      "Mounted at /content/gdrive\n",
      "Collecting PyDrive\n",
      "  Downloading PyDrive-1.3.1.tar.gz (987 kB)\n",
      "\u001b[K     |████████████████████████████████| 987 kB 4.9 MB/s \n",
      "\u001b[?25hCollecting google-api-python-client>=1.2\n",
      "  Downloading google_api_python_client-1.8.2-py3-none-any.whl (58 kB)\n",
      "\u001b[K     |████████████████████████████████| 58 kB 6.7 MB/s \n",
      "\u001b[?25hCollecting oauth2client>=4.0.0\n",
      "  Downloading oauth2client-4.1.3-py2.py3-none-any.whl (98 kB)\n",
      "\u001b[K     |████████████████████████████████| 98 kB 8.3 MB/s \n",
      "\u001b[?25hCollecting PyYAML>=3.0\n",
      "  Downloading PyYAML-5.3.1.tar.gz (269 kB)\n",
      "\u001b[K     |████████████████████████████████| 269 kB 61.0 MB/s \n",
      "\u001b[?25hCollecting uritemplate<4dev,>=3.0.0\n",
      "  Downloading uritemplate-3.0.1-py2.py3-none-any.whl (15 kB)\n",
      "Requirement already satisfied: six<2dev,>=1.6.1 in /usr/local/lib/python3.7/site-packages (from google-api-python-client>=1.2->PyDrive) (1.14.0)\n",
      "Collecting google-api-core<2dev,>=1.13.0\n",
      "  Downloading google_api_core-1.17.0-py2.py3-none-any.whl (70 kB)\n",
      "\u001b[K     |████████████████████████████████| 70 kB 9.1 MB/s \n",
      "\u001b[?25hCollecting google-auth-httplib2>=0.0.3\n",
      "  Downloading google_auth_httplib2-0.0.3-py2.py3-none-any.whl (6.3 kB)\n",
      "Collecting httplib2<1dev,>=0.9.2\n",
      "  Downloading httplib2-0.17.3-py3-none-any.whl (95 kB)\n",
      "\u001b[K     |████████████████████████████████| 95 kB 5.3 MB/s \n",
      "\u001b[?25hCollecting google-auth>=1.4.1\n",
      "  Downloading google_auth-1.14.1-py2.py3-none-any.whl (89 kB)\n",
      "\u001b[K     |████████████████████████████████| 89 kB 10.0 MB/s \n",
      "\u001b[?25hCollecting rsa>=3.1.4\n",
      "  Downloading rsa-4.0-py2.py3-none-any.whl (38 kB)\n",
      "Collecting pyasn1>=0.1.7\n",
      "  Downloading pyasn1-0.4.8-py2.py3-none-any.whl (77 kB)\n",
      "\u001b[K     |████████████████████████████████| 77 kB 6.9 MB/s \n",
      "\u001b[?25hCollecting pyasn1-modules>=0.0.5\n",
      "  Downloading pyasn1_modules-0.2.8-py2.py3-none-any.whl (155 kB)\n",
      "\u001b[K     |████████████████████████████████| 155 kB 61.5 MB/s \n",
      "\u001b[?25hRequirement already satisfied: pytz in /usr/local/lib/python3.7/site-packages (from google-api-core<2dev,>=1.13.0->google-api-python-client>=1.2->PyDrive) (2020.1)\n",
      "Collecting googleapis-common-protos<2.0dev,>=1.6.0\n",
      "  Downloading googleapis-common-protos-1.51.0.tar.gz (35 kB)\n",
      "Requirement already satisfied: requests<3.0.0dev,>=2.18.0 in /usr/local/lib/python3.7/site-packages (from google-api-core<2dev,>=1.13.0->google-api-python-client>=1.2->PyDrive) (2.22.0)\n",
      "Requirement already satisfied: setuptools>=34.0.0 in /usr/local/lib/python3.7/site-packages (from google-api-core<2dev,>=1.13.0->google-api-python-client>=1.2->PyDrive) (45.2.0.post20200210)\n",
      "Collecting protobuf>=3.4.0\n",
      "  Downloading protobuf-3.11.3-cp37-cp37m-manylinux1_x86_64.whl (1.3 MB)\n",
      "\u001b[K     |████████████████████████████████| 1.3 MB 47.0 MB/s \n",
      "\u001b[?25hCollecting cachetools<5.0,>=2.0.0\n",
      "  Downloading cachetools-4.1.0-py3-none-any.whl (10 kB)\n",
      "Requirement already satisfied: chardet<3.1.0,>=3.0.2 in /usr/local/lib/python3.7/site-packages (from requests<3.0.0dev,>=2.18.0->google-api-core<2dev,>=1.13.0->google-api-python-client>=1.2->PyDrive) (3.0.4)\n",
      "Requirement already satisfied: urllib3!=1.25.0,!=1.25.1,<1.26,>=1.21.1 in /usr/local/lib/python3.7/site-packages (from requests<3.0.0dev,>=2.18.0->google-api-core<2dev,>=1.13.0->google-api-python-client>=1.2->PyDrive) (1.25.8)\n",
      "Requirement already satisfied: idna<2.9,>=2.5 in /usr/local/lib/python3.7/site-packages (from requests<3.0.0dev,>=2.18.0->google-api-core<2dev,>=1.13.0->google-api-python-client>=1.2->PyDrive) (2.8)\n",
      "Requirement already satisfied: certifi>=2017.4.17 in /usr/local/lib/python3.7/site-packages (from requests<3.0.0dev,>=2.18.0->google-api-core<2dev,>=1.13.0->google-api-python-client>=1.2->PyDrive) (2020.4.5.1)\n",
      "Building wheels for collected packages: PyDrive, PyYAML, googleapis-common-protos\n",
      "  Building wheel for PyDrive (setup.py) ... \u001b[?25l\u001b[?25hdone\n",
      "  Created wheel for PyDrive: filename=PyDrive-1.3.1-py3-none-any.whl size=27435 sha256=8ce381e906868749e1f988a577cb2a00266121cba4307d6cf5f15a80c2ffc50e\n",
      "  Stored in directory: /root/.cache/pip/wheels/57/cc/07/6aac75f5395a224650905accd38c868c2276782a56f1046b7b\n",
      "  Building wheel for PyYAML (setup.py) ... \u001b[?25l\u001b[?25hdone\n",
      "  Created wheel for PyYAML: filename=PyYAML-5.3.1-cp37-cp37m-linux_x86_64.whl size=393695 sha256=3f8be498470e8cdc6ac026249906012fd37fb1586f0cbe0d2c69ff231fe5cb95\n",
      "  Stored in directory: /root/.cache/pip/wheels/5e/03/1e/e1e954795d6f35dfc7b637fe2277bff021303bd9570ecea653\n",
      "  Building wheel for googleapis-common-protos (setup.py) ... \u001b[?25l\u001b[?25hdone\n",
      "  Created wheel for googleapis-common-protos: filename=googleapis_common_protos-1.51.0-py3-none-any.whl size=77592 sha256=dc7a7360f2ccc3bfa9390a463b59ea0911bce7dec9d984270719b79b223f2973\n",
      "  Stored in directory: /root/.cache/pip/wheels/4c/a1/71/5e427276ceeff277fd76878d1b19fbf4587a2845015d86864b\n",
      "Successfully built PyDrive PyYAML googleapis-common-protos\n",
      "Installing collected packages: uritemplate, protobuf, googleapis-common-protos, cachetools, pyasn1, rsa, pyasn1-modules, google-auth, google-api-core, httplib2, google-auth-httplib2, google-api-python-client, oauth2client, PyYAML, PyDrive\n",
      "Successfully installed PyDrive-1.3.1 PyYAML-5.3.1 cachetools-4.1.0 google-api-core-1.17.0 google-api-python-client-1.8.2 google-auth-1.14.1 google-auth-httplib2-0.0.3 googleapis-common-protos-1.51.0 httplib2-0.17.3 oauth2client-4.1.3 protobuf-3.11.3 pyasn1-0.4.8 pyasn1-modules-0.2.8 rsa-4.0 uritemplate-3.0.1\n"
     ]
    },
    {
     "data": {
      "application/vnd.colab-display-data+json": {
       "pip_warning": {
        "packages": [
         "google",
         "pyasn1",
         "pyasn1_modules",
         "rsa"
        ]
       }
      }
     },
     "metadata": {
      "tags": []
     },
     "output_type": "display_data"
    }
   ],
   "source": [
    "from google.colab import drive\n",
    "drive.mount('/content/gdrive',force_remount=True)\n",
    "!pip install PyDrive\n",
    "import os\n",
    "from pydrive.auth import GoogleAuth\n",
    "from pydrive.drive import GoogleDrive\n",
    "from google.colab import auth\n",
    "from oauth2client.client import GoogleCredentials\n",
    "auth.authenticate_user()\n",
    "gauth = GoogleAuth()\n",
    "gauth.credentials = GoogleCredentials.get_application_default()\n",
    "drive = GoogleDrive(gauth)\n",
    "download = drive.CreateFile({'id': '1vaIlu1uOPs5IE9K6HT__9LhATuZkJ9uL'})\n",
    "download.GetContentFile('model_300dim.zip')\n",
    "import zipfile\n",
    "with zipfile.ZipFile(\"model_300dim.zip\",\"r\") as zip_ref:\n",
    "    zip_ref.extractall()\n",
    "#https://drive.google.com/open?id=1vaIlu1uOPs5IE9K6HT__9LhATuZkJ9uL"
   ]
  },
  {
   "cell_type": "markdown",
   "metadata": {
    "colab_type": "text",
    "id": "-x4HLaIyuaMC"
   },
   "source": [
    "Lets import the required libraries.The 2 most important libraries that we'll be using are RdKit for molecular transformations from the SMILES representation of the molecules and mol2vec which has pretrained molecular embeddings for the molecular representation obtained from SMILES.\n"
   ]
  },
  {
   "cell_type": "code",
   "execution_count": 0,
   "metadata": {
    "colab": {},
    "colab_type": "code",
    "id": "Zi0bIaPX3SZ9"
   },
   "outputs": [],
   "source": [
    "import sys\n",
    "sys.path.append('/usr/local/lib/python3.7/site-packages/')\n",
    "from rdkit import Chem\n",
    "from rdkit.Chem import Draw\n",
    "from rdkit.Chem.Draw import IPythonConsole\n",
    "from rdkit.Chem import Descriptors\n",
    "from rdkit.Chem import AllChem\n",
    "from rdkit import DataStructs\n",
    "from rdkit.Chem import rdMolDescriptors\n",
    "import numpy as np\n",
    "import pandas as pd\n",
    "import io\n",
    "from google.colab import files\n",
    "from rdkit.Chem import PandasTools\n",
    "from gensim.models import word2vec\n",
    "from mol2vec.features import mol2alt_sentence, mol2sentence, MolSentence, DfVec, sentences2vec"
   ]
  },
  {
   "cell_type": "code",
   "execution_count": 6,
   "metadata": {
    "colab": {
     "base_uri": "https://localhost:8080/",
     "height": 177,
     "resources": {
      "http://localhost:8080/nbextensions/google.colab/files.js": {
       "data": "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",
       "headers": [
        [
         "content-type",
         "application/javascript"
        ]
       ],
       "ok": true,
       "status": 200,
       "status_text": ""
      }
     }
    },
    "colab_type": "code",
    "id": "mV8kIYQoA8qH",
    "outputId": "980f21ca-2b3e-4609-f8e0-680cbdd56030"
   },
   "outputs": [
    {
     "data": {
      "text/html": [
       "\n",
       "     <input type=\"file\" id=\"files-9ae88126-9747-47a8-9584-5ea97c106185\" name=\"files[]\" multiple disabled />\n",
       "     <output id=\"result-9ae88126-9747-47a8-9584-5ea97c106185\">\n",
       "      Upload widget is only available when the cell has been executed in the\n",
       "      current browser session. Please rerun this cell to enable.\n",
       "      </output>\n",
       "      <script src=\"/nbextensions/google.colab/files.js\"></script> "
      ],
      "text/plain": [
       "<IPython.core.display.HTML object>"
      ]
     },
     "metadata": {
      "tags": []
     },
     "output_type": "display_data"
    },
    {
     "name": "stdout",
     "output_type": "stream",
     "text": [
      "Saving final_test_file.csv to final_test_file.csv\n",
      "Saving sample_submission.csv to sample_submission.csv\n",
      "Saving test.csv to test.csv\n",
      "Saving train.csv to train.csv\n"
     ]
    }
   ],
   "source": [
    "uploaded=files.upload()"
   ]
  },
  {
   "cell_type": "code",
   "execution_count": 0,
   "metadata": {
    "colab": {},
    "colab_type": "code",
    "id": "6u2JCU3y30Kh"
   },
   "outputs": [],
   "source": [
    "#train_files=pd.read_csv(io.BytesIO(uploaded['train.csv']))\n",
    "train_files=pd.read_csv('train.csv')\n",
    "test_files=pd.read_csv('final_test_file.csv')"
   ]
  },
  {
   "cell_type": "markdown",
   "metadata": {
    "colab_type": "text",
    "id": "SbauZyZ6vojM"
   },
   "source": [
    "Separate the target(binding affinity to be predicted) and the other columns.\n"
   ]
  },
  {
   "cell_type": "code",
   "execution_count": 0,
   "metadata": {
    "colab": {},
    "colab_type": "code",
    "id": "_SFPCdzy30Wg"
   },
   "outputs": [],
   "source": [
    "target=train_files['Binding Affinity']\n",
    "train_files.drop(columns='Binding Affinity',inplace=True)"
   ]
  },
  {
   "cell_type": "markdown",
   "metadata": {
    "colab_type": "text",
    "id": "q-nNOvvEvwHC"
   },
   "source": [
    "Convert all the  SMILES representation to its corresponding Molecular representations,using the MolFromSmiles function provided in Rdkit.Chem"
   ]
  },
  {
   "cell_type": "code",
   "execution_count": 0,
   "metadata": {
    "colab": {},
    "colab_type": "code",
    "id": "b1uHl_1V30YC"
   },
   "outputs": [],
   "source": [
    "train_files['mol']=train_files['SMILES sequence'].apply(lambda x: Chem.MolFromSmiles(x))\n",
    "test_files['mol']=test_files['SMILES sequence'].apply(lambda x: Chem.MolFromSmiles(x))"
   ]
  },
  {
   "cell_type": "markdown",
   "metadata": {
    "colab_type": "text",
    "id": "2ZFLMTi4w_hc"
   },
   "source": [
    "Lets see how the molecules look after converting from the SMILES sequence."
   ]
  },
  {
   "cell_type": "code",
   "execution_count": 40,
   "metadata": {
    "colab": {
     "base_uri": "https://localhost:8080/",
     "height": 1000
    },
    "colab_type": "code",
    "id": "sOom_z66wZdU",
    "outputId": "d99ee6c9-3449-4945-f182-6d665c49e2e9",
    "scrolled": false
   },
   "outputs": [
    {
     "data": {
      "text/html": [
       "<div>\n",
       "<style scoped>\n",
       "    .dataframe tbody tr th:only-of-type {\n",
       "        vertical-align: middle;\n",
       "    }\n",
       "\n",
       "    .dataframe tbody tr th {\n",
       "        vertical-align: top;\n",
       "    }\n",
       "\n",
       "    .dataframe thead th {\n",
       "        text-align: right;\n",
       "    }\n",
       "</style>\n",
       "<table border=\"1\" class=\"dataframe\">\n",
       "  <thead>\n",
       "    <tr style=\"text-align: right;\">\n",
       "      <th></th>\n",
       "      <th>SMILES sequence</th>\n",
       "      <th>mol</th>\n",
       "    </tr>\n",
       "  </thead>\n",
       "  <tbody>\n",
       "    <tr>\n",
       "      <th>0</th>\n",
       "      <td>CCNC(C)C(NC)c1ccccc1</td>\n",
       "      <td><img data-content=\"rdkit/molecule\" src=\"data:image/png;base64,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\" alt=\"Mol\"/></td>\n",
       "    </tr>\n",
       "    <tr>\n",
       "      <th>1</th>\n",
       "      <td>CONC(=O)c1cncnc1</td>\n",
       "      <td><img data-content=\"rdkit/molecule\" src=\"data:image/png;base64,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\" alt=\"Mol\"/></td>\n",
       "    </tr>\n",
       "    <tr>\n",
       "      <th>2</th>\n",
       "      <td>CCNC1CCCN(Cc2ccsc2)C1</td>\n",
       "      <td><img data-content=\"rdkit/molecule\" src=\"data:image/png;base64,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\" alt=\"Mol\"/></td>\n",
       "    </tr>\n",
       "    <tr>\n",
       "      <th>3</th>\n",
       "      <td>CC(NC(=O)CSCCN)c1ccccc1</td>\n",
       "      <td><img data-content=\"rdkit/molecule\" src=\"data:image/png;base64,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\" alt=\"Mol\"/></td>\n",
       "    </tr>\n",
       "    <tr>\n",
       "      <th>4</th>\n",
       "      <td>CCC(CS)CN(C)c1ccccc1</td>\n",
       "      <td><img data-content=\"rdkit/molecule\" src=\"data:image/png;base64,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\" alt=\"Mol\"/></td>\n",
       "    </tr>\n",
       "    <tr>\n",
       "      <th>...</th>\n",
       "      <td>...</td>\n",
       "      <td>...</td>\n",
       "    </tr>\n",
       "    <tr>\n",
       "      <th>8995</th>\n",
       "      <td>CC(O)CCNC(=O)CNCc1ccccc1</td>\n",
       "      <td><img data-content=\"rdkit/molecule\" src=\"data:image/png;base64,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\" alt=\"Mol\"/></td>\n",
       "    </tr>\n",
       "    <tr>\n",
       "      <th>8996</th>\n",
       "      <td>N#Cc1cccc(-c2cnsc2)n1</td>\n",
       "      <td><img data-content=\"rdkit/molecule\" src=\"data:image/png;base64,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\" alt=\"Mol\"/></td>\n",
       "    </tr>\n",
       "    <tr>\n",
       "      <th>8997</th>\n",
       "      <td>Cc1ccnc(NC(CN)C(C)C)c1</td>\n",
       "      <td><img data-content=\"rdkit/molecule\" src=\"data:image/png;base64,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\" alt=\"Mol\"/></td>\n",
       "    </tr>\n",
       "    <tr>\n",
       "      <th>8998</th>\n",
       "      <td>CC(=O)CCc1cncnc1</td>\n",
       "      <td><img data-content=\"rdkit/molecule\" src=\"data:image/png;base64,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\" alt=\"Mol\"/></td>\n",
       "    </tr>\n",
       "    <tr>\n",
       "      <th>8999</th>\n",
       "      <td>COCCC(=O)Nc1cnccc1C</td>\n",
       "      <td><img data-content=\"rdkit/molecule\" src=\"data:image/png;base64,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\" alt=\"Mol\"/></td>\n",
       "    </tr>\n",
       "  </tbody>\n",
       "</table>\n",
       "<p>9000 rows × 2 columns</p>\n",
       "</div>"
      ],
      "text/plain": [
       "               SMILES sequence                                                mol\n",
       "0         CCNC(C)C(NC)c1ccccc1  <img data-content=\"rdkit/molecule\" src=\"data:i...\n",
       "1             CONC(=O)c1cncnc1  <img data-content=\"rdkit/molecule\" src=\"data:i...\n",
       "2        CCNC1CCCN(Cc2ccsc2)C1  <img data-content=\"rdkit/molecule\" src=\"data:i...\n",
       "3      CC(NC(=O)CSCCN)c1ccccc1  <img data-content=\"rdkit/molecule\" src=\"data:i...\n",
       "4         CCC(CS)CN(C)c1ccccc1  <img data-content=\"rdkit/molecule\" src=\"data:i...\n",
       "...                        ...                                                ...\n",
       "8995  CC(O)CCNC(=O)CNCc1ccccc1  <img data-content=\"rdkit/molecule\" src=\"data:i...\n",
       "8996     N#Cc1cccc(-c2cnsc2)n1  <img data-content=\"rdkit/molecule\" src=\"data:i...\n",
       "8997    Cc1ccnc(NC(CN)C(C)C)c1  <img data-content=\"rdkit/molecule\" src=\"data:i...\n",
       "8998          CC(=O)CCc1cncnc1  <img data-content=\"rdkit/molecule\" src=\"data:i...\n",
       "8999       COCCC(=O)Nc1cnccc1C  <img data-content=\"rdkit/molecule\" src=\"data:i...\n",
       "\n",
       "[9000 rows x 2 columns]"
      ]
     },
     "execution_count": 40,
     "metadata": {
      "tags": []
     },
     "output_type": "execute_result"
    }
   ],
   "source": [
    "PandasTools.AddMoleculeColumnToFrame(train_files,'SMILES sequence','mol')\n",
    "train_files"
   ]
  },
  {
   "cell_type": "markdown",
   "metadata": {
    "colab_type": "text",
    "id": "ggpJUOzywDS4"
   },
   "source": [
    "Load the pretrained/predefined molecular embeddings.These molecular embeddings are of 300 dimensions,i.e the increase the dimensionality of the data by 300 columns of numerical features of that molecule."
   ]
  },
  {
   "cell_type": "code",
   "execution_count": 25,
   "metadata": {
    "colab": {
     "base_uri": "https://localhost:8080/",
     "height": 72
    },
    "colab_type": "code",
    "id": "8E9StJJI-daj",
    "outputId": "018cf3e5-ea4f-49a2-d20b-546a81ada975"
   },
   "outputs": [
    {
     "name": "stderr",
     "output_type": "stream",
     "text": [
      "/usr/local/lib/python3.6/dist-packages/smart_open/smart_open_lib.py:253: UserWarning: This function is deprecated, use smart_open.open instead. See the migration notes for details: https://github.com/RaRe-Technologies/smart_open/blob/master/README.rst#migrating-to-the-new-open-function\n",
      "  'See the migration notes for details: %s' % _MIGRATION_NOTES_URL\n"
     ]
    }
   ],
   "source": [
    "model = word2vec.Word2Vec.load('model_300dim.pkl')"
   ]
  },
  {
   "cell_type": "markdown",
   "metadata": {
    "colab_type": "text",
    "id": "0-Ex0MbG4OXQ"
   },
   "source": [
    "Now we use the molecular embeddings to convert the molecules to molecular sentences."
   ]
  },
  {
   "cell_type": "code",
   "execution_count": 0,
   "metadata": {
    "colab": {},
    "colab_type": "code",
    "id": "3uvm4Y0iEJqq"
   },
   "outputs": [],
   "source": [
    "train_files['sentence'] = train_files.apply(lambda x: MolSentence(mol2alt_sentence(x['mol'], 1)), axis=1)\n",
    "test_files['sentence'] = test_files.apply(lambda x: MolSentence(mol2alt_sentence(x['mol'], 1)), axis=1)"
   ]
  },
  {
   "cell_type": "code",
   "execution_count": 45,
   "metadata": {
    "colab": {
     "base_uri": "https://localhost:8080/",
     "height": 230
    },
    "colab_type": "code",
    "id": "dWE-t5Ef5rBs",
    "outputId": "2bcfdf39-1ad2-49ab-c9cb-3c8182229502"
   },
   "outputs": [
    {
     "data": {
      "text/plain": [
       "0       (2246728737, 3542456614, 2245384272, 773607102...\n",
       "1       (2246728737, 3975275337, 864674487, 903112553,...\n",
       "2       (2246728737, 3542456614, 2245384272, 773607102...\n",
       "3       (2246728737, 3537119515, 2245273601, 146777865...\n",
       "4       (2246728737, 3542456614, 2245384272, 150656359...\n",
       "                              ...                        \n",
       "8995    (2246728737, 3537119515, 2245273601, 161474856...\n",
       "8996    (847433064, 2551483158, 2245900962, 551287920,...\n",
       "8997    (2246728737, 422715066, 3217380708, 3207567135...\n",
       "8998    (2246728737, 3545365497, 2246699815, 208074702...\n",
       "8999    (2246728737, 3975275337, 864674487, 2222621677...\n",
       "Name: sentence, Length: 9000, dtype: object"
      ]
     },
     "execution_count": 45,
     "metadata": {
      "tags": []
     },
     "output_type": "execute_result"
    }
   ],
   "source": [
    "train_files['sentence']"
   ]
  },
  {
   "cell_type": "markdown",
   "metadata": {
    "colab_type": "text",
    "id": "NP9fniuT5yc1"
   },
   "source": [
    "Now convert the molecular sentences to numerical vectors."
   ]
  },
  {
   "cell_type": "code",
   "execution_count": 0,
   "metadata": {
    "colab": {},
    "colab_type": "code",
    "id": "34ZN2K8lEJ7u"
   },
   "outputs": [],
   "source": [
    "train_files['mol2vec'] = [DfVec(x) for x in sentences2vec(train_files['sentence'], model, unseen='UNK')]\n",
    "test_files['mol2vec'] = [DfVec(x) for x in sentences2vec(test_files['sentence'], model, unseen='UNK')]"
   ]
  },
  {
   "cell_type": "code",
   "execution_count": 47,
   "metadata": {
    "colab": {
     "base_uri": "https://localhost:8080/",
     "height": 230
    },
    "colab_type": "code",
    "id": "MTuaL3a156gM",
    "outputId": "9ce5f048-ba21-45f9-8a82-6aa637fb65e7"
   },
   "outputs": [
    {
     "data": {
      "text/plain": [
       "0       (300,) dimensional vector\n",
       "1       (300,) dimensional vector\n",
       "2       (300,) dimensional vector\n",
       "3       (300,) dimensional vector\n",
       "4       (300,) dimensional vector\n",
       "                  ...            \n",
       "8995    (300,) dimensional vector\n",
       "8996    (300,) dimensional vector\n",
       "8997    (300,) dimensional vector\n",
       "8998    (300,) dimensional vector\n",
       "8999    (300,) dimensional vector\n",
       "Name: mol2vec, Length: 9000, dtype: object"
      ]
     },
     "execution_count": 47,
     "metadata": {
      "tags": []
     },
     "output_type": "execute_result"
    }
   ],
   "source": [
    "train_files['mol2vec']"
   ]
  },
  {
   "cell_type": "markdown",
   "metadata": {
    "colab_type": "text",
    "id": "LEgMUEUE5_yk"
   },
   "source": [
    "Now lets split the data into train and test set for using our regression model."
   ]
  },
  {
   "cell_type": "code",
   "execution_count": 0,
   "metadata": {
    "colab": {},
    "colab_type": "code",
    "id": "cayPmL1hYYW0"
   },
   "outputs": [],
   "source": [
    "x_train = np.array([x.vec for x in train_files['mol2vec']])\n",
    "y = target.values\n",
    "x_test=np.array([x.vec for x in test_files['mol2vec']])\n",
    "# from sklearn.model_selection import train_test_split\n",
    "# x_train,x_test,y_train,y_test=train_test_split(x,y,test_size=0.2)"
   ]
  },
  {
   "cell_type": "code",
   "execution_count": 29,
   "metadata": {
    "colab": {
     "base_uri": "https://localhost:8080/",
     "height": 34
    },
    "colab_type": "code",
    "id": "BsXPlgTY6Hnc",
    "outputId": "c854ec47-2807-4e35-e9d0-0d4771e84378"
   },
   "outputs": [
    {
     "data": {
      "text/plain": [
       "(9000, 300)"
      ]
     },
     "execution_count": 29,
     "metadata": {
      "tags": []
     },
     "output_type": "execute_result"
    }
   ],
   "source": [
    "x_train.shape"
   ]
  },
  {
   "cell_type": "code",
   "execution_count": 30,
   "metadata": {
    "colab": {
     "base_uri": "https://localhost:8080/",
     "height": 34
    },
    "colab_type": "code",
    "id": "EQRyncayusIT",
    "outputId": "96007560-e63f-4563-e3b4-e4c0770ab8f6"
   },
   "outputs": [
    {
     "data": {
      "text/plain": [
       "(2500, 300)"
      ]
     },
     "execution_count": 30,
     "metadata": {
      "tags": []
     },
     "output_type": "execute_result"
    }
   ],
   "source": [
    "x_test.shape"
   ]
  },
  {
   "cell_type": "markdown",
   "metadata": {
    "colab_type": "text",
    "id": "V6I2DsVi6dJ3"
   },
   "source": [
    "Now I used Support Vector Regressor and validated using the following code for different values of C and epsilon.According to the documentation the C is Regularization parameter. The strength of the regularization is inversely proportional to C. Must be strictly positive. The penalty is a squared l2 penalty,and epislon is Epsilon in the epsilon-SVR model. It specifies the epsilon-tube within which no penalty is associated in the training loss function with points predicted within a distance epsilon from the actual value.\n",
    "The default kernel is rbf "
   ]
  },
  {
   "cell_type": "code",
   "execution_count": 0,
   "metadata": {
    "colab": {},
    "colab_type": "code",
    "id": "IaArYGJdwN1e"
   },
   "outputs": [],
   "source": [
    "epsilon=[0.001,0.1,0.2,0.25,0.35,0.5,0.7,0.8]\n",
    "C=[15,17,19,21,23,25,29,31,35,40,45,50,55,60,65,70]\n",
    "for eps in epsilon:\n",
    "  for c in C: \n",
    "    from sklearn.svm import SVR\n",
    "    svr=SVR(C=c, epsilon=eps)\n",
    "    svr.fit(x_train,y_train)\n",
    "    sv_pred=svr.predict(x_test)\n",
    "    from sklearn.metrics import r2_score,mean_squared_error,mean_absolute_error\n",
    "    print(f'c={c} epsilon={eps}')\n",
    "    print('mean_squared_error',mean_squared_error(y_test,sv_pred)**0.5)\n",
    "    print('mean_absolute_error',mean_absolute_error(y_test,sv_pred))\n",
    "    print('r2_score',r2_score(y_test,sv_pred))\n",
    "    print('====================================================================')"
   ]
  },
  {
   "cell_type": "code",
   "execution_count": 0,
   "metadata": {
    "colab": {
     "base_uri": "https://localhost:8080/",
     "height": 123
    },
    "colab_type": "code",
    "id": "nd1eQCCh-viC",
    "outputId": "73b31247-5441-4591-9282-c6e29558309f"
   },
   "outputs": [
    {
     "name": "stdout",
     "output_type": "stream",
     "text": [
      "Fitting 5 folds for each of 75 candidates, totalling 375 fits\n",
      "[CV] C=55, epsilon=1.6, kernel=linear ................................\n"
     ]
    },
    {
     "name": "stderr",
     "output_type": "stream",
     "text": [
      "[Parallel(n_jobs=1)]: Using backend SequentialBackend with 1 concurrent workers.\n"
     ]
    },
    {
     "name": "stdout",
     "output_type": "stream",
     "text": [
      "[CV] ................ C=55, epsilon=1.6, kernel=linear, total=128.7min\n",
      "[CV] C=55, epsilon=1.6, kernel=linear ................................\n"
     ]
    },
    {
     "name": "stderr",
     "output_type": "stream",
     "text": [
      "[Parallel(n_jobs=1)]: Done   1 out of   1 | elapsed: 128.7min remaining:    0.0s\n"
     ]
    }
   ],
   "source": [
    "from sklearn.model_selection import GridSearchCV\n",
    "from sklearn.metrics import classification_report\n",
    "from sklearn.svm import SVR\n",
    "C=list(np.arange(50,110,3))\n",
    "# print(C)\n",
    "epsilon=list(np.arange(1.4,4.0,0.2))\n",
    "# print(epsilon)\n",
    "parameters = {'kernel':('linear', 'rbf','poly'), 'C':[55,50,65,70,90],'epsilon':[1.6,1.8,2.2,2.6,3.0]}\n",
    "svr=SVR()\n",
    "reg = GridSearchCV(svr, parameters,verbose=2)\n",
    "reg.fit(x_train,y_train)\n",
    "# from sklearn.metrics import r2_score,mean_squared_error,mean_absolute_error\n",
    "#     print(f'c={c} epsilon={eps}')\n",
    "#     print('mean_squared_error',mean_squared_error(y_test,sv_pred)**0.5)\n",
    "#     print('mean_absolute_error',mean_absolute_error(y_test,sv_pred))\n",
    "#     print('r2_score',r2_score(y_test,sv_pred))\n",
    "#     print('====================================================================')"
   ]
  },
  {
   "cell_type": "markdown",
   "metadata": {
    "colab_type": "text",
    "id": "tu7yhmod7KmE"
   },
   "source": [
    "After  validation I concluded that it works fairly well for larger values of C i.e. we dont like make mistakes (allow a little bit of overfit) and a moderately high epsilon."
   ]
  },
  {
   "cell_type": "markdown",
   "metadata": {
    "colab_type": "text",
    "id": "c7jIB6zC7eQQ"
   },
   "source": [
    "Lets see how the model performs."
   ]
  },
  {
   "cell_type": "code",
   "execution_count": 0,
   "metadata": {
    "colab": {},
    "colab_type": "code",
    "id": "10SmE00HwOH0"
   },
   "outputs": [],
   "source": [
    "from sklearn.svm import SVR\n",
    "svr=SVR(C=80, epsilon=1.6)\n",
    "svr.fit(x_train,y)\n",
    "sv_pred=svr.predict(x_test)\n",
    "# from sklearn.metrics import r2_score,mean_squared_error,mean_absolute_error\n",
    "# print('mean_squared_error',mean_squared_error(y_test,sv_pred)**0.5)\n",
    "# print('mean_absolute_error',mean_absolute_error(y_test,sv_pred))\n",
    "# print('r2_score',r2_score(y_test,sv_pred))"
   ]
  },
  {
   "cell_type": "markdown",
   "metadata": {
    "colab_type": "text",
    "id": "-iV1aPtG7lV8"
   },
   "source": [
    "I also tried to use Ridge CV.It is basically Linear Regression with Ridge(L2) regularization with built in cross validation.\n"
   ]
  },
  {
   "cell_type": "code",
   "execution_count": 28,
   "metadata": {
    "colab": {
     "base_uri": "https://localhost:8080/",
     "height": 105
    },
    "colab_type": "code",
    "id": "Pf0sToNIHbFD",
    "outputId": "ca2fcd8c-130e-4322-a8ee-ba5461bd04fe"
   },
   "outputs": [
    {
     "name": "stdout",
     "output_type": "stream",
     "text": [
      "alphas: [0.1, 1, 10, 100, 1000.0, 10000.0, 20000.0, 50000.0, 80000.0, 100000.0, 1000000.0, 10000000.0, 100000000.0]\n",
      "CV MSE: [ 5.97022334  5.97017729  5.96972769  5.96625161  5.98727579  6.49958644\n",
      "  6.88243525  7.6940181   8.28964021  8.61550301 12.16908156 13.50881263\n",
      " 13.71360173]\n",
      "Best alpha using built-in RidgeCV: 100.000000\n"
     ]
    }
   ],
   "source": [
    "from sklearn.linear_model import RidgeCV\n",
    "alphas = [0.1, 1, 10, 100, 1e3, 1e4, 2e4, 5e4, 8e4, 1e5, 1e6, 1e7, 1e8]\n",
    "ridge = RidgeCV(alphas=alphas, store_cv_values=True)\n",
    "ridge.fit(x_train, y_train)\n",
    "cv_mse=np.mean(ridge.cv_values_,axis=0)\n",
    "print(\"alphas: %s\" % alphas)\n",
    "print(\"CV MSE: %s\" % cv_mse)\n",
    "print(\"Best alpha using built-in RidgeCV: %f\" % ridge.alpha_)"
   ]
  },
  {
   "cell_type": "markdown",
   "metadata": {
    "colab_type": "text",
    "id": "ZRjUJi5k7xe0"
   },
   "source": [
    "Best value of alpha came to be 100."
   ]
  },
  {
   "cell_type": "code",
   "execution_count": 29,
   "metadata": {
    "colab": {
     "base_uri": "https://localhost:8080/",
     "height": 34
    },
    "colab_type": "code",
    "id": "8MnxMR0CZpBA",
    "outputId": "f9b2ca76-97e1-4ef2-d30c-f65ff94e0379"
   },
   "outputs": [
    {
     "name": "stdout",
     "output_type": "stream",
     "text": [
      "100.0\n"
     ]
    }
   ],
   "source": [
    "alpha=ridge.alpha_\n",
    "print(alpha)"
   ]
  },
  {
   "cell_type": "markdown",
   "metadata": {
    "colab_type": "text",
    "id": "8qifOvTY7117"
   },
   "source": [
    "Now lets run and test our RidgeCV model for testing."
   ]
  },
  {
   "cell_type": "code",
   "execution_count": 53,
   "metadata": {
    "colab": {
     "base_uri": "https://localhost:8080/",
     "height": 70
    },
    "colab_type": "code",
    "id": "bZqr4mz6HbSz",
    "outputId": "52cdbc5b-607b-47c0-db91-2e9079d393dc"
   },
   "outputs": [
    {
     "name": "stdout",
     "output_type": "stream",
     "text": [
      "2.353900382140591\n",
      "1.7045021825536093\n",
      "0.6057187436756803\n"
     ]
    }
   ],
   "source": [
    "from sklearn import linear_model\n",
    "from sklearn.metrics import r2_score,mean_squared_error,mean_absolute_error\n",
    "ridge=linear_model.Ridge(alpha=100)\n",
    "ridge.fit(x_train,y_train)\n",
    "ridge_pred=ridge.predict(x_test)\n",
    "print(mean_squared_error(y_test,ridge_pred)**0.5)\n",
    "print(mean_absolute_error(y_test,ridge_pred))\n",
    "print(r2_score(y_test,ridge_pred))"
   ]
  },
  {
   "cell_type": "markdown",
   "metadata": {
    "colab_type": "text",
    "id": "qf7AWvpE8BBB"
   },
   "source": [
    "As compared to SVR it performs a little poor."
   ]
  },
  {
   "cell_type": "markdown",
   "metadata": {
    "colab_type": "text",
    "id": "HMi28cEe8Ll-"
   },
   "source": [
    "I also tried other regressors like GradientBoostingRegressor,RandomForest Regressor,KNN regressor.None of them outperformed the Support Vector Regressor."
   ]
  },
  {
   "cell_type": "markdown",
   "metadata": {
    "colab_type": "text",
    "id": "cmqXz1_98Xva"
   },
   "source": [
    "Gradient Boosting Regressor"
   ]
  },
  {
   "cell_type": "code",
   "execution_count": 54,
   "metadata": {
    "colab": {
     "base_uri": "https://localhost:8080/",
     "height": 70
    },
    "colab_type": "code",
    "id": "lrcsh9LsfEpp",
    "outputId": "70135afa-7413-4466-ecd2-276338c1d676"
   },
   "outputs": [
    {
     "name": "stdout",
     "output_type": "stream",
     "text": [
      "2.550497565646151\n",
      "1.8197599827076374\n",
      "0.537107867299427\n"
     ]
    }
   ],
   "source": [
    "from sklearn.ensemble import GradientBoostingRegressor\n",
    "gb_regr=GradientBoostingRegressor(n_estimators=250,max_depth=10)\n",
    "gb_regr.fit(x_train,y_train)\n",
    "gb_pred=gb_regr.predict(x_test)\n",
    "print(mean_squared_error(y_test,gb_pred)**0.5)\n",
    "print(mean_absolute_error(y_test,gb_pred))\n",
    "print(r2_score(y_test,gb_pred))"
   ]
  },
  {
   "cell_type": "markdown",
   "metadata": {
    "colab_type": "text",
    "id": "2ow7SDtb8eaX"
   },
   "source": [
    "KNearestNeighbor regressor."
   ]
  },
  {
   "cell_type": "code",
   "execution_count": 57,
   "metadata": {
    "colab": {
     "base_uri": "https://localhost:8080/",
     "height": 70
    },
    "colab_type": "code",
    "id": "GkNbMf6Ija8X",
    "outputId": "3b7f48cd-4128-41ed-f4a7-dec9d835de37"
   },
   "outputs": [
    {
     "name": "stdout",
     "output_type": "stream",
     "text": [
      "7.434440157898934\n",
      "2.0076499212962964\n",
      "0.47097250641623933\n"
     ]
    }
   ],
   "source": [
    "from sklearn.neighbors import KNeighborsRegressor\n",
    "knn_regr=KNeighborsRegressor(n_neighbors=12)\n",
    "knn_regr.fit(x_train,y_train) \n",
    "knn_pred=knn_regr.predict(x_test)\n",
    "print(mean_squared_error(y_test,knn_pred))\n",
    "print(mean_absolute_error(y_test,knn_pred))\n",
    "print(r2_score(y_test,knn_pred))"
   ]
  },
  {
   "cell_type": "markdown",
   "metadata": {
    "colab_type": "text",
    "id": "eeXQ0Iic8sRs"
   },
   "source": [
    "Random Forest Regressor with number of estimators 250 and max depth 10."
   ]
  },
  {
   "cell_type": "code",
   "execution_count": 58,
   "metadata": {
    "colab": {
     "base_uri": "https://localhost:8080/",
     "height": 70
    },
    "colab_type": "code",
    "id": "InW3gJZrjbhu",
    "outputId": "6ea275ad-8d17-43d7-8d63-2ad8a1422c47"
   },
   "outputs": [
    {
     "name": "stdout",
     "output_type": "stream",
     "text": [
      "2.6295237594848584\n",
      "1.9092440029793898\n",
      "0.5079783970936878\n"
     ]
    }
   ],
   "source": [
    "from sklearn.ensemble import RandomForestRegressor\n",
    "rf_regr=RandomForestRegressor(n_estimators=250,max_depth=10)\n",
    "rf_regr.fit(x_train,y_train)\n",
    "rf_pred=rf_regr.predict(x_test)\n",
    "print(mean_squared_error(y_test,rf_pred)**0.5)\n",
    "print(mean_absolute_error(y_test,rf_pred))\n",
    "print(r2_score(y_test,rf_pred))"
   ]
  },
  {
   "cell_type": "markdown",
   "metadata": {
    "colab_type": "text",
    "id": "D7-aHp66-TjQ"
   },
   "source": [
    "Comparison with Neural Networks (from sklearn) with L-BFGS solver"
   ]
  },
  {
   "cell_type": "code",
   "execution_count": 63,
   "metadata": {
    "colab": {
     "base_uri": "https://localhost:8080/",
     "height": 196
    },
    "colab_type": "code",
    "id": "QzwTXTN7jbee",
    "outputId": "c01da4a5-4fff-46e8-c7bc-385706aab041"
   },
   "outputs": [
    {
     "name": "stdout",
     "output_type": "stream",
     "text": [
      "3.485922386260442\n",
      "2.5421817198230423\n",
      "0.13530011821604138\n"
     ]
    },
    {
     "name": "stderr",
     "output_type": "stream",
     "text": [
      "/usr/local/lib/python3.6/dist-packages/sklearn/neural_network/_multilayer_perceptron.py:470: ConvergenceWarning: lbfgs failed to converge (status=1):\n",
      "STOP: TOTAL NO. of ITERATIONS REACHED LIMIT.\n",
      "\n",
      "Increase the number of iterations (max_iter) or scale the data as shown in:\n",
      "    https://scikit-learn.org/stable/modules/preprocessing.html\n",
      "  self.n_iter_ = _check_optimize_result(\"lbfgs\", opt_res, self.max_iter)\n"
     ]
    }
   ],
   "source": [
    "from sklearn.neural_network import MLPRegressor\n",
    "mlp_regr=MLPRegressor(solver='lbfgs',\n",
    "                       alpha=1e-5,\n",
    "                       hidden_layer_sizes=(150,60,35),\n",
    "                       activation=\"relu\",\n",
    "                       max_iter=5000)\n",
    "mlp_regr.fit(x_train,y_train)\n",
    "mlp_pred=mlp_regr.predict(x_test)\n",
    "print(mean_squared_error(y_test,mlp_pred)**0.5)\n",
    "print(mean_absolute_error(y_test,mlp_pred))\n",
    "print(r2_score(y_test,mlp_pred))"
   ]
  },
  {
   "cell_type": "markdown",
   "metadata": {
    "colab_type": "text",
    "id": "1gGHnWgj_tjW"
   },
   "source": [
    "MLP Regressor with Adam Solver."
   ]
  },
  {
   "cell_type": "code",
   "execution_count": 65,
   "metadata": {
    "colab": {
     "base_uri": "https://localhost:8080/",
     "height": 70
    },
    "colab_type": "code",
    "id": "4atoDFe0jbbn",
    "outputId": "8ea6925c-9e01-4d21-e8ba-46163bb84ffe"
   },
   "outputs": [
    {
     "name": "stdout",
     "output_type": "stream",
     "text": [
      "2.6398812945526293\n",
      "1.9391636710981925\n",
      "0.5040946765806431\n"
     ]
    }
   ],
   "source": [
    "from sklearn.neural_network import MLPRegressor\n",
    "mlp_regr=MLPRegressor(solver='adam',\n",
    "                       hidden_layer_sizes=(250,125,25),\n",
    "                       activation=\"relu\",\n",
    "                       max_iter=500)\n",
    "mlp_regr.fit(x_train,y_train)\n",
    "mlp_pred=mlp_regr.predict(x_test)\n",
    "print(mean_squared_error(y_test,mlp_pred)**0.5)\n",
    "print(mean_absolute_error(y_test,mlp_pred))\n",
    "print(r2_score(y_test,mlp_pred))"
   ]
  },
  {
   "cell_type": "code",
   "execution_count": 0,
   "metadata": {
    "colab": {},
    "colab_type": "code",
    "id": "AhpuHZXKsErY"
   },
   "outputs": [],
   "source": [
    "test_labels=pd.read_csv('final_test_file.csv')"
   ]
  },
  {
   "cell_type": "code",
   "execution_count": 39,
   "metadata": {
    "colab": {
     "base_uri": "https://localhost:8080/",
     "height": 406
    },
    "colab_type": "code",
    "id": "XXRR94mrCU5T",
    "outputId": "f0578840-d571-4b1f-a179-2f7793430647"
   },
   "outputs": [
    {
     "data": {
      "text/html": [
       "<div>\n",
       "<style scoped>\n",
       "    .dataframe tbody tr th:only-of-type {\n",
       "        vertical-align: middle;\n",
       "    }\n",
       "\n",
       "    .dataframe tbody tr th {\n",
       "        vertical-align: top;\n",
       "    }\n",
       "\n",
       "    .dataframe thead th {\n",
       "        text-align: right;\n",
       "    }\n",
       "</style>\n",
       "<table border=\"1\" class=\"dataframe\">\n",
       "  <thead>\n",
       "    <tr style=\"text-align: right;\">\n",
       "      <th></th>\n",
       "      <th>SMILES sequence</th>\n",
       "      <th>Binding Affinity</th>\n",
       "    </tr>\n",
       "  </thead>\n",
       "  <tbody>\n",
       "    <tr>\n",
       "      <th>0</th>\n",
       "      <td>CNC(=O)N(C)c1ncccn1</td>\n",
       "      <td>-21.901277</td>\n",
       "    </tr>\n",
       "    <tr>\n",
       "      <th>1</th>\n",
       "      <td>O=C(Cc1ccccc1)c1ccccn1</td>\n",
       "      <td>-19.464503</td>\n",
       "    </tr>\n",
       "    <tr>\n",
       "      <th>2</th>\n",
       "      <td>NC1C2CCSCC12</td>\n",
       "      <td>-20.800547</td>\n",
       "    </tr>\n",
       "    <tr>\n",
       "      <th>3</th>\n",
       "      <td>CCC(C)C(N)(CC)c1ccccc1</td>\n",
       "      <td>-16.093809</td>\n",
       "    </tr>\n",
       "    <tr>\n",
       "      <th>4</th>\n",
       "      <td>N#Cc1cccc(C2OCCC2=O)n1</td>\n",
       "      <td>-18.744401</td>\n",
       "    </tr>\n",
       "    <tr>\n",
       "      <th>...</th>\n",
       "      <td>...</td>\n",
       "      <td>...</td>\n",
       "    </tr>\n",
       "    <tr>\n",
       "      <th>2495</th>\n",
       "      <td>CC(N)C(C)Nc1ncccc1C#N</td>\n",
       "      <td>-25.389374</td>\n",
       "    </tr>\n",
       "    <tr>\n",
       "      <th>2496</th>\n",
       "      <td>CCCCOc1ccccc1C(=O)OC</td>\n",
       "      <td>-13.247166</td>\n",
       "    </tr>\n",
       "    <tr>\n",
       "      <th>2497</th>\n",
       "      <td>NN1CC2CCCC1C2</td>\n",
       "      <td>-20.444378</td>\n",
       "    </tr>\n",
       "    <tr>\n",
       "      <th>2498</th>\n",
       "      <td>CN1CCC(C(=O)O)c2ccccc21</td>\n",
       "      <td>-16.428815</td>\n",
       "    </tr>\n",
       "    <tr>\n",
       "      <th>2499</th>\n",
       "      <td>NCC(=O)Nc1ncncc1N</td>\n",
       "      <td>-28.078002</td>\n",
       "    </tr>\n",
       "  </tbody>\n",
       "</table>\n",
       "<p>2500 rows × 2 columns</p>\n",
       "</div>"
      ],
      "text/plain": [
       "              SMILES sequence  Binding Affinity\n",
       "0         CNC(=O)N(C)c1ncccn1        -21.901277\n",
       "1      O=C(Cc1ccccc1)c1ccccn1        -19.464503\n",
       "2                NC1C2CCSCC12        -20.800547\n",
       "3      CCC(C)C(N)(CC)c1ccccc1        -16.093809\n",
       "4      N#Cc1cccc(C2OCCC2=O)n1        -18.744401\n",
       "...                       ...               ...\n",
       "2495    CC(N)C(C)Nc1ncccc1C#N        -25.389374\n",
       "2496     CCCCOc1ccccc1C(=O)OC        -13.247166\n",
       "2497            NN1CC2CCCC1C2        -20.444378\n",
       "2498  CN1CCC(C(=O)O)c2ccccc21        -16.428815\n",
       "2499        NCC(=O)Nc1ncncc1N        -28.078002\n",
       "\n",
       "[2500 rows x 2 columns]"
      ]
     },
     "execution_count": 39,
     "metadata": {
      "tags": []
     },
     "output_type": "execute_result"
    }
   ],
   "source": [
    "test_labels['Binding Affinity']=sv_pred\n",
    "test_labels"
   ]
  },
  {
   "cell_type": "code",
   "execution_count": 0,
   "metadata": {
    "colab": {},
    "colab_type": "code",
    "id": "RUv2iA3XjbTg"
   },
   "outputs": [],
   "source": [
    "test_labels.to_csv('final_submission2.csv', index = False)"
   ]
  },
  {
   "cell_type": "code",
   "execution_count": 36,
   "metadata": {
    "colab": {
     "base_uri": "https://localhost:8080/",
     "height": 34
    },
    "colab_type": "code",
    "id": "0GqykLmujbRs",
    "outputId": "a49c36ef-d2e7-467d-d485-0471b392eced"
   },
   "outputs": [
    {
     "data": {
      "text/plain": [
       "(2500,)"
      ]
     },
     "execution_count": 36,
     "metadata": {
      "tags": []
     },
     "output_type": "execute_result"
    }
   ],
   "source": [
    "sv_pred.shape"
   ]
  }
 ],
 "metadata": {
  "colab": {
   "collapsed_sections": [],
   "name": "rdkit_report",
   "provenance": []
  },
  "kernelspec": {
   "display_name": "Python 3",
   "language": "python",
   "name": "python3"
  },
  "language_info": {
   "codemirror_mode": {
    "name": "ipython",
    "version": 3
   },
   "file_extension": ".py",
   "mimetype": "text/x-python",
   "name": "python",
   "nbconvert_exporter": "python",
   "pygments_lexer": "ipython3",
   "version": "3.7.4"
  }
 },
 "nbformat": 4,
 "nbformat_minor": 1
}
